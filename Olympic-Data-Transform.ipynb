{
 "cells": [
  {
   "cell_type": "code",
   "execution_count": 0,
   "metadata": {
    "application/vnd.databricks.v1+cell": {
     "cellMetadata": {
      "byteLimit": 2048000,
      "rowLimit": 10000
     },
     "inputWidgets": {},
     "nuid": "fb2ddc67-9db0-4f1a-936d-fa39363be68c",
     "showTitle": false,
     "title": ""
    }
   },
   "outputs": [],
   "source": [
    "# Set the configuration for ADLS Gen2\n",
    "spark.conf.set(\n",
    "    \"fs.azure.account.key.storageolympicdata.dfs.core.windows.net\",\n",
    "    \"gsn0tO7zKcSGpvoNZzA4c2r5Dx92/7tc0tOxCRZT2AW+njwngHjc1a2qHtesvV/09BOpnRzpxWp0+ASt50/KjA==\"\n",
    ")\n"
   ]
  },
  {
   "cell_type": "code",
   "execution_count": 0,
   "metadata": {
    "application/vnd.databricks.v1+cell": {
     "cellMetadata": {
      "byteLimit": 2048000,
      "rowLimit": 10000
     },
     "inputWidgets": {},
     "nuid": "e1bfd7c8-5bb9-4af1-ae5c-9f5e722b5f25",
     "showTitle": false,
     "title": ""
    }
   },
   "outputs": [
    {
     "output_type": "display_data",
     "data": {
      "text/html": [
       "<style scoped>\n",
       "  .table-result-container {\n",
       "    max-height: 300px;\n",
       "    overflow: auto;\n",
       "  }\n",
       "  table, th, td {\n",
       "    border: 1px solid black;\n",
       "    border-collapse: collapse;\n",
       "  }\n",
       "  th, td {\n",
       "    padding: 5px;\n",
       "  }\n",
       "  th {\n",
       "    text-align: left;\n",
       "  }\n",
       "</style><div class='table-result-container'><table class='table-result'><thead style='background-color: white'><tr><th>path</th><th>name</th><th>size</th><th>modificationTime</th></tr></thead><tbody><tr><td>abfss://data@storageolympicdata.dfs.core.windows.net/raw-data/</td><td>raw-data/</td><td>0</td><td>1724399665000</td></tr><tr><td>abfss://data@storageolympicdata.dfs.core.windows.net/transformed-data/</td><td>transformed-data/</td><td>0</td><td>1724399680000</td></tr></tbody></table></div>"
      ]
     },
     "metadata": {
      "application/vnd.databricks.v1+output": {
       "addedWidgets": {},
       "aggData": [],
       "aggError": "",
       "aggOverflow": false,
       "aggSchema": [],
       "aggSeriesLimitReached": false,
       "aggType": "",
       "arguments": {},
       "columnCustomDisplayInfos": {},
       "data": [
        [
         "abfss://data@storageolympicdata.dfs.core.windows.net/raw-data/",
         "raw-data/",
         0,
         1724399665000
        ],
        [
         "abfss://data@storageolympicdata.dfs.core.windows.net/transformed-data/",
         "transformed-data/",
         0,
         1724399680000
        ]
       ],
       "datasetInfos": [],
       "dbfsResultPath": null,
       "isJsonSchema": true,
       "metadata": {
        "isDbfsCommandResult": false
       },
       "overflow": false,
       "plotOptions": {
        "customPlotOptions": {},
        "displayType": "table",
        "pivotAggregation": null,
        "pivotColumns": null,
        "xColumns": null,
        "yColumns": null
       },
       "removedWidgets": [],
       "schema": [
        {
         "metadata": "{}",
         "name": "path",
         "type": "\"string\""
        },
        {
         "metadata": "{}",
         "name": "name",
         "type": "\"string\""
        },
        {
         "metadata": "{}",
         "name": "size",
         "type": "\"long\""
        },
        {
         "metadata": "{}",
         "name": "modificationTime",
         "type": "\"long\""
        }
       ],
       "type": "table"
      }
     },
     "output_type": "display_data"
    }
   ],
   "source": [
    "%fs ls abfss://data@storageolympicdata.dfs.core.windows.net"
   ]
  },
  {
   "cell_type": "code",
   "execution_count": 0,
   "metadata": {
    "application/vnd.databricks.v1+cell": {
     "cellMetadata": {
      "byteLimit": 2048000,
      "rowLimit": 10000
     },
     "inputWidgets": {},
     "nuid": "0729d66d-9264-4539-87c3-4a228becd10d",
     "showTitle": false,
     "title": ""
    }
   },
   "outputs": [
    {
     "output_type": "stream",
     "name": "stdout",
     "output_type": "stream",
     "text": [
      "Out[25]: [FileInfo(path='abfss://data@storageolympicdata.dfs.core.windows.net/raw-data/athletes.csv', name='athletes.csv', size=418492, modificationTime=1724652102000),\n FileInfo(path='abfss://data@storageolympicdata.dfs.core.windows.net/raw-data/coaches..csv', name='coaches..csv', size=16889, modificationTime=1724651613000),\n FileInfo(path='abfss://data@storageolympicdata.dfs.core.windows.net/raw-data/coaches.csv', name='coaches.csv', size=16889, modificationTime=1724652133000),\n FileInfo(path='abfss://data@storageolympicdata.dfs.core.windows.net/raw-data/entriesGender.csv', name='entriesGender.csv', size=1123, modificationTime=1724652162000),\n FileInfo(path='abfss://data@storageolympicdata.dfs.core.windows.net/raw-data/medals.csv', name='medals.csv', size=2414, modificationTime=1724652184000),\n FileInfo(path='abfss://data@storageolympicdata.dfs.core.windows.net/raw-data/teams.csv', name='teams.csv', size=35270, modificationTime=1724652207000)]"
     ]
    }
   ],
   "source": [
    "dbutils.fs.ls(\"abfss://data@storageolympicdata.dfs.core.windows.net/raw-data/\")"
   ]
  },
  {
   "cell_type": "code",
   "execution_count": 0,
   "metadata": {
    "application/vnd.databricks.v1+cell": {
     "cellMetadata": {
      "byteLimit": 2048000,
      "rowLimit": 10000
     },
     "inputWidgets": {},
     "nuid": "d201106c-fb86-4fb4-a524-94345ac70304",
     "showTitle": false,
     "title": ""
    }
   },
   "outputs": [
    {
     "output_type": "stream",
     "name": "stdout",
     "output_type": "stream",
     "text": [
      "+--------------------+--------------------+-------------------+\n|                 _c0|                 _c1|                _c2|\n+--------------------+--------------------+-------------------+\n|          PersonName|             Country|         Discipline|\n|     AALERUD Katrine|              Norway|       Cycling Road|\n|         ABAD Nestor|               Spain|Artistic Gymnastics|\n|   ABAGNALE Giovanni|               Italy|             Rowing|\n|      ABALDE Alberto|               Spain|         Basketball|\n|       ABALDE Tamara|               Spain|         Basketball|\n|           ABALO Luc|              France|           Handball|\n|        ABAROA Cesar|               Chile|             Rowing|\n|       ABASS Abobakr|               Sudan|           Swimming|\n|    ABBASALI Hamideh|Islamic Republic ...|             Karate|\n|       ABBASOV Islam|          Azerbaijan|          Wrestling|\n|        ABBINGH Lois|         Netherlands|           Handball|\n|         ABBOT Emily|           Australia|Rhythmic Gymnastics|\n|       ABBOTT Monica|United States of ...|  Baseball/Softball|\n|ABDALLA Abubaker ...|               Qatar|          Athletics|\n|      ABDALLA Maryam|               Egypt|  Artistic Swimming|\n|      ABDALLAH Shahd|               Egypt|  Artistic Swimming|\n| ABDALRASOOL Mohamed|               Sudan|               Judo|\n|   ABDEL LATIF Radwa|               Egypt|           Shooting|\n|    ABDEL RAZEK Samy|               Egypt|           Shooting|\n+--------------------+--------------------+-------------------+\nonly showing top 20 rows\n\n"
     ]
    }
   ],
   "source": [
    "Athletes = spark.read.csv(\"abfss://data@storageolympicdata.dfs.core.windows.net/raw-data/athletes.csv\")\n",
    "Athletes.show()"
   ]
  },
  {
   "cell_type": "code",
   "execution_count": 0,
   "metadata": {
    "application/vnd.databricks.v1+cell": {
     "cellMetadata": {
      "byteLimit": 2048000,
      "rowLimit": 10000
     },
     "inputWidgets": {},
     "nuid": "492019a9-fc16-4990-9a65-aadfcc0a89ac",
     "showTitle": false,
     "title": ""
    }
   },
   "outputs": [
    {
     "output_type": "stream",
     "name": "stdout",
     "output_type": "stream",
     "text": [
      "root\n |-- _c0: string (nullable = true)\n |-- _c1: string (nullable = true)\n |-- _c2: string (nullable = true)\n\n"
     ]
    }
   ],
   "source": [
    "Athletes.printSchema()"
   ]
  },
  {
   "cell_type": "code",
   "execution_count": 0,
   "metadata": {
    "application/vnd.databricks.v1+cell": {
     "cellMetadata": {
      "byteLimit": 2048000,
      "rowLimit": 10000
     },
     "inputWidgets": {},
     "nuid": "adc84601-24e0-4117-b5db-59b57c4acda3",
     "showTitle": false,
     "title": ""
    }
   },
   "outputs": [
    {
     "output_type": "stream",
     "name": "stdout",
     "output_type": "stream",
     "text": [
      "+--------------------+--------------------+-----------------+--------+\n|                 _c0|                 _c1|              _c2|     _c3|\n+--------------------+--------------------+-----------------+--------+\n|                Name|             Country|       Discipline|   Event|\n|     ABDELMAGID Wael|               Egypt|         Football|    null|\n|           ABE Junya|               Japan|       Volleyball|    null|\n|       ABE Katsuhiko|               Japan|       Basketball|    null|\n|        ADAMA Cherif|       C�te d'Ivoire|         Football|    null|\n|          AGEBA Yuya|               Japan|       Volleyball|    null|\n|AIKMAN Siegfried ...|               Japan|           Hockey|     Men|\n|       AL SAADI Kais|             Germany|           Hockey|     Men|\n|       ALAMEDA Lonni|              Canada|Baseball/Softball|Softball|\n|     ALEKNO Vladimir|Islamic Republic ...|       Volleyball|     Men|\n|     ALEKSEEV Alexey|                 ROC|         Handball|   Women|\n|ALLER CARBALLO Ma...|               Spain|       Basketball|    null|\n|       ALSHEHRI Saad|        Saudi Arabia|         Football|     Men|\n|           ALY Kamal|               Egypt|         Football|    null|\n| AMAYA GAITAN Fabian|         Puerto Rico|       Basketball|    null|\n|    AMO AGUADO Pablo|               Spain|         Football|    null|\n|   ANDONOVSKI Vlatko|United States of ...|         Football|   Women|\n|        ANNAN Alyson|         Netherlands|           Hockey|   Women|\n|  ARNAU CREUS Xavier|               Japan|           Hockey|   Women|\n|       ARNOLD Graham|           Australia|         Football|     Men|\n+--------------------+--------------------+-----------------+--------+\nonly showing top 20 rows\n\n"
     ]
    }
   ],
   "source": [
    "Coaches = spark.read.csv(\"abfss://data@storageolympicdata.dfs.core.windows.net/raw-data/coaches.csv\")\n",
    "Coaches.show()"
   ]
  },
  {
   "cell_type": "code",
   "execution_count": 0,
   "metadata": {
    "application/vnd.databricks.v1+cell": {
     "cellMetadata": {
      "byteLimit": 2048000,
      "rowLimit": 10000
     },
     "inputWidgets": {},
     "nuid": "7e151391-8fbe-4912-8d3e-164b34206b8a",
     "showTitle": false,
     "title": ""
    }
   },
   "outputs": [
    {
     "output_type": "stream",
     "name": "stdout",
     "output_type": "stream",
     "text": [
      "root\n |-- _c0: string (nullable = true)\n |-- _c1: string (nullable = true)\n |-- _c2: string (nullable = true)\n |-- _c3: string (nullable = true)\n\n"
     ]
    }
   ],
   "source": [
    "Coaches.printSchema()"
   ]
  },
  {
   "cell_type": "code",
   "execution_count": 0,
   "metadata": {
    "application/vnd.databricks.v1+cell": {
     "cellMetadata": {
      "byteLimit": 2048000,
      "rowLimit": 10000
     },
     "inputWidgets": {},
     "nuid": "d58f287e-a515-4dc5-aba5-6b6c4fff86a6",
     "showTitle": false,
     "title": ""
    }
   },
   "outputs": [
    {
     "output_type": "stream",
     "name": "stdout",
     "output_type": "stream",
     "text": [
      "+--------------------+------+----+-----+\n|          Discipline|Female|Male|Total|\n+--------------------+------+----+-----+\n|      3x3 Basketball|    32|  32|   64|\n|             Archery|    64|  64|  128|\n| Artistic Gymnastics|    98|  98|  196|\n|   Artistic Swimming|   105|   0|  105|\n|           Athletics|   969|1072| 2041|\n|           Badminton|    86|  87|  173|\n|   Baseball/Softball|    90| 144|  234|\n|          Basketball|   144| 144|  288|\n|    Beach Volleyball|    48|  48|   96|\n|              Boxing|   102| 187|  289|\n|        Canoe Slalom|    41|  41|   82|\n|        Canoe Sprint|   123| 126|  249|\n|Cycling BMX Frees...|    10|   9|   19|\n|  Cycling BMX Racing|    24|  24|   48|\n|Cycling Mountain ...|    38|  38|   76|\n|        Cycling Road|    70| 131|  201|\n|       Cycling Track|    90|  99|  189|\n|              Diving|    72|  71|  143|\n|          Equestrian|    73| 125|  198|\n|             Fencing|   107| 108|  215|\n+--------------------+------+----+-----+\nonly showing top 20 rows\n\n"
     ]
    }
   ],
   "source": [
    "EntriesGender = spark.read.option(\"header\", \"true\").csv(\"abfss://data@storageolympicdata.dfs.core.windows.net/raw-data/entriesGender.csv\")\n",
    "EntriesGender.show()\n"
   ]
  },
  {
   "cell_type": "code",
   "execution_count": 0,
   "metadata": {
    "application/vnd.databricks.v1+cell": {
     "cellMetadata": {
      "byteLimit": 2048000,
      "rowLimit": 10000
     },
     "inputWidgets": {},
     "nuid": "0605f00d-e8cd-4d24-a331-d6d838266e15",
     "showTitle": false,
     "title": ""
    }
   },
   "outputs": [
    {
     "output_type": "stream",
     "name": "stdout",
     "output_type": "stream",
     "text": [
      "root\n |-- Discipline: string (nullable = true)\n |-- Female: string (nullable = true)\n |-- Male: string (nullable = true)\n |-- Total: string (nullable = true)\n\n"
     ]
    }
   ],
   "source": [
    "EntriesGender.printSchema()"
   ]
  },
  {
   "cell_type": "code",
   "execution_count": 0,
   "metadata": {
    "application/vnd.databricks.v1+cell": {
     "cellMetadata": {
      "byteLimit": 2048000,
      "rowLimit": 10000
     },
     "inputWidgets": {},
     "nuid": "0f9590ea-c1d1-410a-b2d2-2122f569e4bd",
     "showTitle": false,
     "title": ""
    }
   },
   "outputs": [],
   "source": [
    "from pyspark.sql.functions import col\n",
    "from pyspark.sql.types import IntegerType\n",
    "# changing type from string to int\n",
    "EntriesGender = EntriesGender.withColumn(\"Female\", col(\"Female\").cast(IntegerType()))\\\n",
    "    .withColumn(\"Male\", col(\"Male\").cast(IntegerType()))\\\n",
    "    .withColumn(\"Total\", col(\"Total\").cast(IntegerType()))"
   ]
  },
  {
   "cell_type": "code",
   "execution_count": 0,
   "metadata": {
    "application/vnd.databricks.v1+cell": {
     "cellMetadata": {
      "byteLimit": 2048000,
      "rowLimit": 10000
     },
     "inputWidgets": {},
     "nuid": "28bb96cb-e709-435e-9b46-38a07c0604d6",
     "showTitle": false,
     "title": ""
    }
   },
   "outputs": [
    {
     "output_type": "stream",
     "name": "stdout",
     "output_type": "stream",
     "text": [
      "root\n |-- Discipline: string (nullable = true)\n |-- Female: integer (nullable = true)\n |-- Male: integer (nullable = true)\n |-- Total: integer (nullable = true)\n\n"
     ]
    }
   ],
   "source": [
    "EntriesGender.printSchema()"
   ]
  },
  {
   "cell_type": "code",
   "execution_count": 0,
   "metadata": {
    "application/vnd.databricks.v1+cell": {
     "cellMetadata": {
      "byteLimit": 2048000,
      "rowLimit": 10000
     },
     "inputWidgets": {},
     "nuid": "2d6165ea-aaef-4631-b019-eb93e10f265f",
     "showTitle": false,
     "title": ""
    }
   },
   "outputs": [
    {
     "output_type": "stream",
     "name": "stdout",
     "output_type": "stream",
     "text": [
      "+----+--------------------+----+------+------+-----+-------------+\n|Rank|         TeamCountry|Gold|Silver|Bronze|Total|Rank by Total|\n+----+--------------------+----+------+------+-----+-------------+\n|   1|United States of ...|  39|    41|    33|  113|            1|\n|   2|People's Republic...|  38|    32|    18|   88|            2|\n|   3|               Japan|  27|    14|    17|   58|            5|\n|   4|       Great Britain|  22|    21|    22|   65|            4|\n|   5|                 ROC|  20|    28|    23|   71|            3|\n|   6|           Australia|  17|     7|    22|   46|            6|\n|   7|         Netherlands|  10|    12|    14|   36|            9|\n|   8|              France|  10|    12|    11|   33|           10|\n|   9|             Germany|  10|    11|    16|   37|            8|\n|  10|               Italy|  10|    10|    20|   40|            7|\n|  11|              Canada|   7|     6|    11|   24|           11|\n|  12|              Brazil|   7|     6|     8|   21|           12|\n|  13|         New Zealand|   7|     6|     7|   20|           13|\n|  14|                Cuba|   7|     3|     5|   15|           18|\n|  15|             Hungary|   6|     7|     7|   20|           13|\n|  16|   Republic of Korea|   6|     4|    10|   20|           13|\n|  17|              Poland|   4|     5|     5|   14|           19|\n|  18|      Czech Republic|   4|     4|     3|   11|           23|\n|  19|               Kenya|   4|     4|     2|   10|           25|\n|  20|              Norway|   4|     2|     2|    8|           29|\n+----+--------------------+----+------+------+-----+-------------+\nonly showing top 20 rows\n\n"
     ]
    }
   ],
   "source": [
    "Medals=spark.read.option(\"header\",\"true\").csv(\"abfss://data@storageolympicdata.dfs.core.windows.net/raw-data/medals.csv\")\n",
    "Medals.show()"
   ]
  },
  {
   "cell_type": "code",
   "execution_count": 0,
   "metadata": {
    "application/vnd.databricks.v1+cell": {
     "cellMetadata": {
      "byteLimit": 2048000,
      "rowLimit": 10000
     },
     "inputWidgets": {},
     "nuid": "513608de-f644-4f28-9964-caa9d4fbd479",
     "showTitle": false,
     "title": ""
    }
   },
   "outputs": [
    {
     "output_type": "stream",
     "name": "stdout",
     "output_type": "stream",
     "text": [
      "root\n |-- Rank: string (nullable = true)\n |-- TeamCountry: string (nullable = true)\n |-- Gold: string (nullable = true)\n |-- Silver: string (nullable = true)\n |-- Bronze: string (nullable = true)\n |-- Total: string (nullable = true)\n |-- Rank by Total: string (nullable = true)\n\n"
     ]
    }
   ],
   "source": [
    "Medals.printSchema()"
   ]
  },
  {
   "cell_type": "code",
   "execution_count": 0,
   "metadata": {
    "application/vnd.databricks.v1+cell": {
     "cellMetadata": {
      "byteLimit": 2048000,
      "rowLimit": 10000
     },
     "inputWidgets": {},
     "nuid": "258f3bee-1b56-4f8b-b733-47beb46e9823",
     "showTitle": false,
     "title": ""
    }
   },
   "outputs": [
    {
     "output_type": "stream",
     "name": "stdout",
     "output_type": "stream",
     "text": [
      "+-------------+--------------+--------------------+----------+\n|          _c0|           _c1|                 _c2|       _c3|\n+-------------+--------------+--------------------+----------+\n|     TeamName|    Discipline|             Country|     Event|\n|      Belgium|3x3 Basketball|             Belgium|       Men|\n|        China|3x3 Basketball|People's Republic...|       Men|\n|        China|3x3 Basketball|People's Republic...|     Women|\n|       France|3x3 Basketball|              France|     Women|\n|        Italy|3x3 Basketball|               Italy|     Women|\n|        Japan|3x3 Basketball|               Japan|       Men|\n|        Japan|3x3 Basketball|               Japan|     Women|\n|       Latvia|3x3 Basketball|              Latvia|       Men|\n|     Mongolia|3x3 Basketball|            Mongolia|     Women|\n|  Netherlands|3x3 Basketball|         Netherlands|       Men|\n|       Poland|3x3 Basketball|              Poland|       Men|\n|          ROC|3x3 Basketball|                 ROC|       Men|\n|          ROC|3x3 Basketball|                 ROC|     Women|\n|      Romania|3x3 Basketball|             Romania|     Women|\n|       Serbia|3x3 Basketball|              Serbia|       Men|\n|United States|3x3 Basketball|United States of ...|     Women|\n|    Australia|       Archery|           Australia|Men's Team|\n|    Australia|       Archery|           Australia|Mixed Team|\n|   Bangladesh|       Archery|          Bangladesh|Mixed Team|\n+-------------+--------------+--------------------+----------+\nonly showing top 20 rows\n\n"
     ]
    }
   ],
   "source": [
    "Teams = spark.read.csv(\"abfss://data@storageolympicdata.dfs.core.windows.net/raw-data/teams.csv\")\n",
    "Teams.show()"
   ]
  },
  {
   "cell_type": "code",
   "execution_count": 0,
   "metadata": {
    "application/vnd.databricks.v1+cell": {
     "cellMetadata": {
      "byteLimit": 2048000,
      "rowLimit": 10000
     },
     "inputWidgets": {},
     "nuid": "08605a50-794c-434d-872c-73389e6f3507",
     "showTitle": false,
     "title": ""
    }
   },
   "outputs": [
    {
     "output_type": "stream",
     "name": "stdout",
     "output_type": "stream",
     "text": [
      "root\n |-- _c0: string (nullable = true)\n |-- _c1: string (nullable = true)\n |-- _c2: string (nullable = true)\n |-- _c3: string (nullable = true)\n\n"
     ]
    }
   ],
   "source": [
    "Teams.printSchema()"
   ]
  },
  {
   "cell_type": "code",
   "execution_count": 0,
   "metadata": {
    "application/vnd.databricks.v1+cell": {
     "cellMetadata": {
      "byteLimit": 2048000,
      "rowLimit": 10000
     },
     "inputWidgets": {},
     "nuid": "1c8dcd1d-c4b9-4e39-af6e-980f8399093d",
     "showTitle": false,
     "title": ""
    }
   },
   "outputs": [
    {
     "output_type": "stream",
     "name": "stdout",
     "output_type": "stream",
     "text": [
      "+--------------------+----+\n|         TeamCountry|Gold|\n+--------------------+----+\n|              Canada|   7|\n|              Brazil|   7|\n|         New Zealand|   7|\n|                Cuba|   7|\n|             Hungary|   6|\n|   Republic of Korea|   6|\n|              Poland|   4|\n|      Czech Republic|   4|\n|               Kenya|   4|\n|              Norway|   4|\n|             Jamaica|   4|\n|United States of ...|  39|\n|People's Republic...|  38|\n|              Serbia|   3|\n|             Belgium|   3|\n|               Spain|   3|\n|            Bulgaria|   3|\n|            Slovenia|   3|\n|          Uzbekistan|   3|\n|             Denmark|   3|\n+--------------------+----+\nonly showing top 20 rows\n\n"
     ]
    }
   ],
   "source": [
    "# Find the top countries with the highest number of gold medals\n",
    "top_gold_medal_countries = Medals.orderBy(\"Gold\", ascending=False).select(\"TeamCountry\",\"Gold\").show()"
   ]
  },
  {
   "cell_type": "code",
   "execution_count": 0,
   "metadata": {
    "application/vnd.databricks.v1+cell": {
     "cellMetadata": {
      "byteLimit": 2048000,
      "rowLimit": 10000
     },
     "inputWidgets": {},
     "nuid": "95499fd8-cd86-4712-a130-f4607af4a02b",
     "showTitle": false,
     "title": ""
    }
   },
   "outputs": [
    {
     "output_type": "stream",
     "name": "stdout",
     "output_type": "stream",
     "text": [
      "+--------------------+------+----+-----+-------------------+-------------------+\n|          Discipline|Female|Male|Total|         Avg_Female|           Avg_Male|\n+--------------------+------+----+-----+-------------------+-------------------+\n|      3x3 Basketball|    32|  32|   64|                0.5|                0.5|\n|             Archery|    64|  64|  128|                0.5|                0.5|\n| Artistic Gymnastics|    98|  98|  196|                0.5|                0.5|\n|   Artistic Swimming|   105|   0|  105|                1.0|                0.0|\n|           Athletics|   969|1072| 2041| 0.4747672709456149| 0.5252327290543851|\n|           Badminton|    86|  87|  173|0.49710982658959535| 0.5028901734104047|\n|   Baseball/Softball|    90| 144|  234|0.38461538461538464| 0.6153846153846154|\n|          Basketball|   144| 144|  288|                0.5|                0.5|\n|    Beach Volleyball|    48|  48|   96|                0.5|                0.5|\n|              Boxing|   102| 187|  289|0.35294117647058826| 0.6470588235294118|\n|        Canoe Slalom|    41|  41|   82|                0.5|                0.5|\n|        Canoe Sprint|   123| 126|  249| 0.4939759036144578| 0.5060240963855421|\n|Cycling BMX Frees...|    10|   9|   19| 0.5263157894736842|0.47368421052631576|\n|  Cycling BMX Racing|    24|  24|   48|                0.5|                0.5|\n|Cycling Mountain ...|    38|  38|   76|                0.5|                0.5|\n|        Cycling Road|    70| 131|  201| 0.3482587064676617| 0.6517412935323383|\n|       Cycling Track|    90|  99|  189|0.47619047619047616| 0.5238095238095238|\n|              Diving|    72|  71|  143| 0.5034965034965035| 0.4965034965034965|\n|          Equestrian|    73| 125|  198| 0.3686868686868687| 0.6313131313131313|\n|             Fencing|   107| 108|  215|0.49767441860465117| 0.5023255813953489|\n+--------------------+------+----+-----+-------------------+-------------------+\nonly showing top 20 rows\n\n"
     ]
    }
   ],
   "source": [
    "# Calculate the average number of entries by gender for each discipline\n",
    "average_entries_by_gender = EntriesGender.withColumn(\n",
    "    'Avg_Female', EntriesGender['Female'] / EntriesGender['Total']\n",
    ").withColumn(\n",
    "    'Avg_Male', EntriesGender['Male'] / EntriesGender['Total']\n",
    ")\n",
    "average_entries_by_gender.show()"
   ]
  },
  {
   "cell_type": "code",
   "execution_count": 0,
   "metadata": {
    "application/vnd.databricks.v1+cell": {
     "cellMetadata": {
      "byteLimit": 2048000,
      "rowLimit": 10000
     },
     "inputWidgets": {},
     "nuid": "4685643c-a95f-4be9-b67a-8f107cfc6ba6",
     "showTitle": false,
     "title": ""
    }
   },
   "outputs": [],
   "source": [
    "# Stored back to data\n",
    "athletes_path = \"abfss://data@storageolympicdata.dfs.core.windows.net/transformed-data/Athletes.csv\"\n",
    "coaches_path = \"abfss://data@storageolympicdata.dfs.core.windows.net/transformed-data/Coaches.csv\"\n",
    "entriesgender_path = \"abfss://data@storageolympicdata.dfs.core.windows.net/transformed-data/EntriesGender.csv\"\n",
    "medals_path = \"abfss://data@storageolympicdata.dfs.core.windows.net/transformed-data/Medals.csv\"\n",
    "teams_path = \"abfss://data@storageolympicdata.dfs.core.windows.net/transformed-data/Teams.csv\"\n",
    "\n",
    "# Save the DataFrame to the specified path\n",
    "Athletes.repartition(1).write.mode(\"overwrite\").option(\"header\", 'true').csv(athletes_path)\n",
    "Coaches.repartition(1).write.mode(\"overwrite\").option(\"header\", 'true').csv(coaches_path)\n",
    "EntriesGender.repartition(1).write.mode(\"overwrite\").option(\"header\", 'true').csv(entriesgender_path)\n",
    "Medals.repartition(1).write.mode(\"overwrite\").option(\"header\", 'true').csv(medals_path)\n",
    "Teams.repartition(1).write.mode(\"overwrite\").option(\"header\", 'true').csv(teams_path)\n",
    "\n"
   ]
  },
  {
   "cell_type": "code",
   "execution_count": 0,
   "metadata": {
    "application/vnd.databricks.v1+cell": {
     "cellMetadata": {},
     "inputWidgets": {},
     "nuid": "42681141-e51d-4681-a970-6325b862933e",
     "showTitle": false,
     "title": ""
    }
   },
   "outputs": [],
   "source": []
  }
 ],
 "metadata": {
  "application/vnd.databricks.v1+notebook": {
   "dashboards": [],
   "environmentMetadata": null,
   "language": "python",
   "notebookMetadata": {
    "mostRecentlyExecutedCommandWithImplicitDF": {
     "commandId": 1361617608106477,
     "dataframes": [
      "_sqldf"
     ]
    },
    "pythonIndentUnit": 4
   },
   "notebookName": "Olympic-Data-Transform",
   "widgets": {}
  }
 },
 "nbformat": 4,
 "nbformat_minor": 0
}
